{
 "cells": [
  {
   "cell_type": "markdown",
   "metadata": {
    "id": "jtiGwedKD-ol"
   },
   "source": [
    "# Importing libraries"
   ]
  },
  {
   "cell_type": "code",
   "execution_count": 1,
   "metadata": {
    "id": "JR5UcvP7Dw9t"
   },
   "outputs": [],
   "source": [
    "import pandas as pd\n",
    "import numpy as np\n",
    "import matplotlib.pyplot as plt\n",
    "import seaborn as sns\n",
    "from wordcloud import WordCloud\n",
    "from sklearn.preprocessing import  StandardScaler, OneHotEncoder\n",
    "from sklearn.compose import ColumnTransformer\n",
    "from sklearn.cluster import KMeans\n",
    "from mlxtend.preprocessing import TransactionEncoder\n",
    "from mlxtend.frequent_patterns import apriori, association_rules\n",
    "import warnings\n",
    "warnings.filterwarnings(\"ignore\")"
   ]
  },
  {
   "cell_type": "markdown",
   "metadata": {
    "id": "YE8JOhEhAlE9"
   },
   "source": [
    "# Task A: Data exploration"
   ]
  },
  {
   "cell_type": "markdown",
   "metadata": {
    "id": "4Au_tzRcAxq9"
   },
   "source": [
    "## A1. Data types"
   ]
  },
  {
   "cell_type": "markdown",
   "metadata": {
    "id": "WbDHuJHdBeQ9"
   },
   "source": [
    "First we loaded the data from the csv file and explored each attribute's `data type`"
   ]
  },
  {
   "cell_type": "code",
   "execution_count": 4,
   "metadata": {
    "colab": {
     "base_uri": "https://localhost:8080/",
     "height": 424
    },
    "id": "_XGVQh-OAdJz",
    "outputId": "615d6e72-2522-49d6-fd8a-b8da584e281c"
   },
   "outputs": [
    {
     "data": {
      "text/html": [
       "<div>\n",
       "<style scoped>\n",
       "    .dataframe tbody tr th:only-of-type {\n",
       "        vertical-align: middle;\n",
       "    }\n",
       "\n",
       "    .dataframe tbody tr th {\n",
       "        vertical-align: top;\n",
       "    }\n",
       "\n",
       "    .dataframe thead th {\n",
       "        text-align: right;\n",
       "    }\n",
       "</style>\n",
       "<table border=\"1\" class=\"dataframe\">\n",
       "  <thead>\n",
       "    <tr style=\"text-align: right;\">\n",
       "      <th></th>\n",
       "      <th>Record#</th>\n",
       "      <th>Elapsed_Time</th>\n",
       "      <th>Time_in_Community</th>\n",
       "      <th>Gender</th>\n",
       "      <th>Working</th>\n",
       "      <th>Age</th>\n",
       "      <th>Family</th>\n",
       "      <th>Hobbies</th>\n",
       "      <th>Social_Club</th>\n",
       "      <th>Political</th>\n",
       "      <th>Professional</th>\n",
       "      <th>Religious</th>\n",
       "      <th>Support_Group</th>\n",
       "    </tr>\n",
       "  </thead>\n",
       "  <tbody>\n",
       "    <tr>\n",
       "      <th>0</th>\n",
       "      <td>1</td>\n",
       "      <td>5.01</td>\n",
       "      <td>Long</td>\n",
       "      <td>F</td>\n",
       "      <td>No</td>\n",
       "      <td>49</td>\n",
       "      <td>Yes</td>\n",
       "      <td>Yes</td>\n",
       "      <td>No</td>\n",
       "      <td>No</td>\n",
       "      <td>No</td>\n",
       "      <td>Yes</td>\n",
       "      <td>No</td>\n",
       "    </tr>\n",
       "    <tr>\n",
       "      <th>1</th>\n",
       "      <td>2</td>\n",
       "      <td>3.50</td>\n",
       "      <td>Medium</td>\n",
       "      <td>M</td>\n",
       "      <td>No</td>\n",
       "      <td>46</td>\n",
       "      <td>Yes</td>\n",
       "      <td>No</td>\n",
       "      <td>No</td>\n",
       "      <td>No</td>\n",
       "      <td>No</td>\n",
       "      <td>No</td>\n",
       "      <td>No</td>\n",
       "    </tr>\n",
       "    <tr>\n",
       "      <th>2</th>\n",
       "      <td>3</td>\n",
       "      <td>2.82</td>\n",
       "      <td>Medium</td>\n",
       "      <td>F</td>\n",
       "      <td>Yes</td>\n",
       "      <td>50</td>\n",
       "      <td>No</td>\n",
       "      <td>No</td>\n",
       "      <td>No</td>\n",
       "      <td>No</td>\n",
       "      <td>Yes</td>\n",
       "      <td>No</td>\n",
       "      <td>No</td>\n",
       "    </tr>\n",
       "    <tr>\n",
       "      <th>3</th>\n",
       "      <td>4</td>\n",
       "      <td>7.98</td>\n",
       "      <td>Long</td>\n",
       "      <td>M</td>\n",
       "      <td>No</td>\n",
       "      <td>44</td>\n",
       "      <td>Yes</td>\n",
       "      <td>Yes</td>\n",
       "      <td>No</td>\n",
       "      <td>No</td>\n",
       "      <td>No</td>\n",
       "      <td>Yes</td>\n",
       "      <td>No</td>\n",
       "    </tr>\n",
       "    <tr>\n",
       "      <th>4</th>\n",
       "      <td>5</td>\n",
       "      <td>6.37</td>\n",
       "      <td>Long</td>\n",
       "      <td>F</td>\n",
       "      <td>Yes</td>\n",
       "      <td>27</td>\n",
       "      <td>No</td>\n",
       "      <td>No</td>\n",
       "      <td>No</td>\n",
       "      <td>No</td>\n",
       "      <td>No</td>\n",
       "      <td>No</td>\n",
       "      <td>No</td>\n",
       "    </tr>\n",
       "    <tr>\n",
       "      <th>...</th>\n",
       "      <td>...</td>\n",
       "      <td>...</td>\n",
       "      <td>...</td>\n",
       "      <td>...</td>\n",
       "      <td>...</td>\n",
       "      <td>...</td>\n",
       "      <td>...</td>\n",
       "      <td>...</td>\n",
       "      <td>...</td>\n",
       "      <td>...</td>\n",
       "      <td>...</td>\n",
       "      <td>...</td>\n",
       "      <td>...</td>\n",
       "    </tr>\n",
       "    <tr>\n",
       "      <th>1995</th>\n",
       "      <td>1996</td>\n",
       "      <td>2.78</td>\n",
       "      <td>Medium</td>\n",
       "      <td>F</td>\n",
       "      <td>Yes</td>\n",
       "      <td>47</td>\n",
       "      <td>No</td>\n",
       "      <td>No</td>\n",
       "      <td>No</td>\n",
       "      <td>No</td>\n",
       "      <td>Yes</td>\n",
       "      <td>No</td>\n",
       "      <td>No</td>\n",
       "    </tr>\n",
       "    <tr>\n",
       "      <th>1996</th>\n",
       "      <td>1997</td>\n",
       "      <td>2.99</td>\n",
       "      <td>Medium</td>\n",
       "      <td>F</td>\n",
       "      <td>Yes</td>\n",
       "      <td>27</td>\n",
       "      <td>No</td>\n",
       "      <td>No</td>\n",
       "      <td>No</td>\n",
       "      <td>No</td>\n",
       "      <td>No</td>\n",
       "      <td>No</td>\n",
       "      <td>No</td>\n",
       "    </tr>\n",
       "    <tr>\n",
       "      <th>1997</th>\n",
       "      <td>1998</td>\n",
       "      <td>6.71</td>\n",
       "      <td>Medium</td>\n",
       "      <td>M</td>\n",
       "      <td>Yes</td>\n",
       "      <td>43</td>\n",
       "      <td>Yes</td>\n",
       "      <td>No</td>\n",
       "      <td>No</td>\n",
       "      <td>Yes</td>\n",
       "      <td>Yes</td>\n",
       "      <td>No</td>\n",
       "      <td>No</td>\n",
       "    </tr>\n",
       "    <tr>\n",
       "      <th>1998</th>\n",
       "      <td>1999</td>\n",
       "      <td>6.13</td>\n",
       "      <td>Short</td>\n",
       "      <td>M</td>\n",
       "      <td>Yes</td>\n",
       "      <td>42</td>\n",
       "      <td>No</td>\n",
       "      <td>Yes</td>\n",
       "      <td>Yes</td>\n",
       "      <td>No</td>\n",
       "      <td>No</td>\n",
       "      <td>Yes</td>\n",
       "      <td>Yes</td>\n",
       "    </tr>\n",
       "    <tr>\n",
       "      <th>1999</th>\n",
       "      <td>2000</td>\n",
       "      <td>7.52</td>\n",
       "      <td>Long</td>\n",
       "      <td>F</td>\n",
       "      <td>No</td>\n",
       "      <td>53</td>\n",
       "      <td>No</td>\n",
       "      <td>Yes</td>\n",
       "      <td>No</td>\n",
       "      <td>Yes</td>\n",
       "      <td>Yes</td>\n",
       "      <td>Yes</td>\n",
       "      <td>Yes</td>\n",
       "    </tr>\n",
       "  </tbody>\n",
       "</table>\n",
       "<p>2000 rows × 13 columns</p>\n",
       "</div>"
      ],
      "text/plain": [
       "      Record#  Elapsed_Time Time_in_Community Gender Working  Age Family  \\\n",
       "0           1          5.01              Long      F      No   49    Yes   \n",
       "1           2          3.50            Medium      M      No   46    Yes   \n",
       "2           3          2.82            Medium      F     Yes   50     No   \n",
       "3           4          7.98              Long      M      No   44    Yes   \n",
       "4           5          6.37              Long      F     Yes   27     No   \n",
       "...       ...           ...               ...    ...     ...  ...    ...   \n",
       "1995     1996          2.78            Medium      F     Yes   47     No   \n",
       "1996     1997          2.99            Medium      F     Yes   27     No   \n",
       "1997     1998          6.71            Medium      M     Yes   43    Yes   \n",
       "1998     1999          6.13             Short      M     Yes   42     No   \n",
       "1999     2000          7.52              Long      F      No   53     No   \n",
       "\n",
       "     Hobbies Social_Club Political Professional Religious Support_Group  \n",
       "0        Yes          No        No           No       Yes            No  \n",
       "1         No          No        No           No        No            No  \n",
       "2         No          No        No          Yes        No            No  \n",
       "3        Yes          No        No           No       Yes            No  \n",
       "4         No          No        No           No        No            No  \n",
       "...      ...         ...       ...          ...       ...           ...  \n",
       "1995      No          No        No          Yes        No            No  \n",
       "1996      No          No        No           No        No            No  \n",
       "1997      No          No       Yes          Yes        No            No  \n",
       "1998     Yes         Yes        No           No       Yes           Yes  \n",
       "1999     Yes          No       Yes          Yes       Yes           Yes  \n",
       "\n",
       "[2000 rows x 13 columns]"
      ]
     },
     "execution_count": 4,
     "metadata": {},
     "output_type": "execute_result"
    }
   ],
   "source": [
    "data1 = pd.read_csv('Community-Participation-DataSet(8).csv')\n",
    "data1"
   ]
  },
  {
   "cell_type": "markdown",
   "metadata": {
    "id": "LRe3gvn9B7od"
   },
   "source": [
    "The data contains 2000 `record` and 13 `attribute`, let's explore thier types"
   ]
  },
  {
   "cell_type": "code",
   "execution_count": 5,
   "metadata": {
    "colab": {
     "base_uri": "https://localhost:8080/"
    },
    "id": "RyQNoPoBCOad",
    "outputId": "2b5489a1-0c71-444a-b3fa-79f5238086d5"
   },
   "outputs": [
    {
     "name": "stdout",
     "output_type": "stream",
     "text": [
      "<class 'pandas.core.frame.DataFrame'>\n",
      "RangeIndex: 2000 entries, 0 to 1999\n",
      "Data columns (total 13 columns):\n",
      " #   Column             Non-Null Count  Dtype  \n",
      "---  ------             --------------  -----  \n",
      " 0   Record#            2000 non-null   int64  \n",
      " 1   Elapsed_Time       2000 non-null   float64\n",
      " 2   Time_in_Community  2000 non-null   object \n",
      " 3   Gender             2000 non-null   object \n",
      " 4   Working            2000 non-null   object \n",
      " 5   Age                2000 non-null   int64  \n",
      " 6   Family             2000 non-null   object \n",
      " 7   Hobbies            2000 non-null   object \n",
      " 8   Social_Club        2000 non-null   object \n",
      " 9   Political          2000 non-null   object \n",
      " 10  Professional       2000 non-null   object \n",
      " 11  Religious          2000 non-null   object \n",
      " 12  Support_Group      2000 non-null   object \n",
      "dtypes: float64(1), int64(2), object(10)\n",
      "memory usage: 203.2+ KB\n"
     ]
    }
   ],
   "source": [
    "data1.info()"
   ]
  },
  {
   "cell_type": "markdown",
   "metadata": {
    "id": "CYG6dgJlCV49",
    "tags": []
   },
   "source": [
    "`Record#`: ordinal (ordered fashion and lack of inherent numerical meaning)\n",
    "\n",
    "`Elapsed_Time`: ratio (there is a true zero point)\n",
    "\n",
    "`Time_in_Community`: ordinal\n",
    "\n",
    "`Gender`: Binary\n",
    "\n",
    "`Working`: Binary\n",
    "\n",
    "`Age`: ratio\n",
    "\n",
    "`Family`: Binary\n",
    "\n",
    "`Hobbies`: Binary\n",
    "\n",
    "`Social_Club`: Binary\n",
    "\n",
    "`Political`: Binary\n",
    "\n",
    "`Professional`: Binary\n",
    "\n",
    "`Religious`: Binary"
   ]
  },
  {
   "cell_type": "markdown",
   "metadata": {
    "id": "2D67ciusBA6W"
   },
   "source": [
    "## A2. Statistical summaries and visualizations\n"
   ]
  },
  {
   "cell_type": "markdown",
   "metadata": {
    "id": "UD_o5CRhCuaM"
   },
   "source": [
    "In this phase we are going to understand the data more and more through `statistical summaries` and `visualizations`."
   ]
  },
  {
   "cell_type": "markdown",
   "metadata": {
    "id": "Zmd7z5IDDAtM"
   },
   "source": [
    "Let's start simple:"
   ]
  },
  {
   "cell_type": "code",
   "execution_count": 7,
   "metadata": {
    "colab": {
     "base_uri": "https://localhost:8080/",
     "height": 112
    },
    "id": "KfjmF97MBL_t",
    "outputId": "e5ecf1ea-a459-421a-92a3-a81cddf58815"
   },
   "outputs": [
    {
     "data": {
      "text/html": [
       "<div>\n",
       "<style scoped>\n",
       "    .dataframe tbody tr th:only-of-type {\n",
       "        vertical-align: middle;\n",
       "    }\n",
       "\n",
       "    .dataframe tbody tr th {\n",
       "        vertical-align: top;\n",
       "    }\n",
       "\n",
       "    .dataframe thead th {\n",
       "        text-align: right;\n",
       "    }\n",
       "</style>\n",
       "<table border=\"1\" class=\"dataframe\">\n",
       "  <thead>\n",
       "    <tr style=\"text-align: right;\">\n",
       "      <th></th>\n",
       "      <th>count</th>\n",
       "      <th>mean</th>\n",
       "      <th>std</th>\n",
       "      <th>min</th>\n",
       "      <th>25%</th>\n",
       "      <th>50%</th>\n",
       "      <th>75%</th>\n",
       "      <th>max</th>\n",
       "    </tr>\n",
       "  </thead>\n",
       "  <tbody>\n",
       "    <tr>\n",
       "      <th>Age</th>\n",
       "      <td>2000.0</td>\n",
       "      <td>36.727500</td>\n",
       "      <td>10.699368</td>\n",
       "      <td>17.00</td>\n",
       "      <td>27.00</td>\n",
       "      <td>37.000</td>\n",
       "      <td>46.0000</td>\n",
       "      <td>57.00</td>\n",
       "    </tr>\n",
       "    <tr>\n",
       "      <th>Elapsed_Time</th>\n",
       "      <td>2000.0</td>\n",
       "      <td>5.912215</td>\n",
       "      <td>2.324282</td>\n",
       "      <td>2.01</td>\n",
       "      <td>3.84</td>\n",
       "      <td>5.905</td>\n",
       "      <td>7.8625</td>\n",
       "      <td>10.15</td>\n",
       "    </tr>\n",
       "  </tbody>\n",
       "</table>\n",
       "</div>"
      ],
      "text/plain": [
       "               count       mean        std    min    25%     50%      75%  \\\n",
       "Age           2000.0  36.727500  10.699368  17.00  27.00  37.000  46.0000   \n",
       "Elapsed_Time  2000.0   5.912215   2.324282   2.01   3.84   5.905   7.8625   \n",
       "\n",
       "                max  \n",
       "Age           57.00  \n",
       "Elapsed_Time  10.15  "
      ]
     },
     "execution_count": 7,
     "metadata": {},
     "output_type": "execute_result"
    }
   ],
   "source": [
    "data1[['Age', 'Elapsed_Time']].describe().T"
   ]
  },
  {
   "cell_type": "markdown",
   "metadata": {
    "id": "riDq5y5wDatM"
   },
   "source": [
    "\n",
    "The mean and median being close suggests the data might follow a normal distribution."
   ]
  },
  {
   "cell_type": "code",
   "execution_count": 8,
   "metadata": {
    "colab": {
     "base_uri": "https://localhost:8080/",
     "height": 363
    },
    "id": "JLpv1vfj3mZu",
    "outputId": "fcc852eb-9427-41e1-8a7e-0e9931d3f84f"
   },
   "outputs": [
    {
     "data": {
      "text/html": [
       "<div>\n",
       "<style scoped>\n",
       "    .dataframe tbody tr th:only-of-type {\n",
       "        vertical-align: middle;\n",
       "    }\n",
       "\n",
       "    .dataframe tbody tr th {\n",
       "        vertical-align: top;\n",
       "    }\n",
       "\n",
       "    .dataframe thead th {\n",
       "        text-align: right;\n",
       "    }\n",
       "</style>\n",
       "<table border=\"1\" class=\"dataframe\">\n",
       "  <thead>\n",
       "    <tr style=\"text-align: right;\">\n",
       "      <th></th>\n",
       "      <th>count</th>\n",
       "      <th>unique</th>\n",
       "      <th>top</th>\n",
       "      <th>freq</th>\n",
       "    </tr>\n",
       "  </thead>\n",
       "  <tbody>\n",
       "    <tr>\n",
       "      <th>Time_in_Community</th>\n",
       "      <td>2000</td>\n",
       "      <td>3</td>\n",
       "      <td>Long</td>\n",
       "      <td>841</td>\n",
       "    </tr>\n",
       "    <tr>\n",
       "      <th>Gender</th>\n",
       "      <td>2000</td>\n",
       "      <td>2</td>\n",
       "      <td>F</td>\n",
       "      <td>1028</td>\n",
       "    </tr>\n",
       "    <tr>\n",
       "      <th>Working</th>\n",
       "      <td>2000</td>\n",
       "      <td>2</td>\n",
       "      <td>Yes</td>\n",
       "      <td>1001</td>\n",
       "    </tr>\n",
       "    <tr>\n",
       "      <th>Family</th>\n",
       "      <td>2000</td>\n",
       "      <td>2</td>\n",
       "      <td>No</td>\n",
       "      <td>1208</td>\n",
       "    </tr>\n",
       "    <tr>\n",
       "      <th>Hobbies</th>\n",
       "      <td>2000</td>\n",
       "      <td>2</td>\n",
       "      <td>No</td>\n",
       "      <td>1413</td>\n",
       "    </tr>\n",
       "    <tr>\n",
       "      <th>Social_Club</th>\n",
       "      <td>2000</td>\n",
       "      <td>2</td>\n",
       "      <td>No</td>\n",
       "      <td>1627</td>\n",
       "    </tr>\n",
       "    <tr>\n",
       "      <th>Political</th>\n",
       "      <td>2000</td>\n",
       "      <td>2</td>\n",
       "      <td>No</td>\n",
       "      <td>1834</td>\n",
       "    </tr>\n",
       "    <tr>\n",
       "      <th>Professional</th>\n",
       "      <td>2000</td>\n",
       "      <td>2</td>\n",
       "      <td>No</td>\n",
       "      <td>1342</td>\n",
       "    </tr>\n",
       "    <tr>\n",
       "      <th>Religious</th>\n",
       "      <td>2000</td>\n",
       "      <td>2</td>\n",
       "      <td>No</td>\n",
       "      <td>1167</td>\n",
       "    </tr>\n",
       "    <tr>\n",
       "      <th>Support_Group</th>\n",
       "      <td>2000</td>\n",
       "      <td>2</td>\n",
       "      <td>No</td>\n",
       "      <td>1691</td>\n",
       "    </tr>\n",
       "  </tbody>\n",
       "</table>\n",
       "</div>"
      ],
      "text/plain": [
       "                  count unique   top  freq\n",
       "Time_in_Community  2000      3  Long   841\n",
       "Gender             2000      2     F  1028\n",
       "Working            2000      2   Yes  1001\n",
       "Family             2000      2    No  1208\n",
       "Hobbies            2000      2    No  1413\n",
       "Social_Club        2000      2    No  1627\n",
       "Political          2000      2    No  1834\n",
       "Professional       2000      2    No  1342\n",
       "Religious          2000      2    No  1167\n",
       "Support_Group      2000      2    No  1691"
      ]
     },
     "execution_count": 8,
     "metadata": {},
     "output_type": "execute_result"
    }
   ],
   "source": [
    "data1.describe(include = \"object\").T"
   ]
  },
  {
   "cell_type": "markdown",
   "metadata": {
    "id": "3MZHT26mFjuV"
   },
   "source": [
    "`Elapsed_Time distribution using Histogram plot`"
   ]
  },
  {
   "cell_type": "code",
   "execution_count": 9,
   "metadata": {
    "colab": {
     "base_uri": "https://localhost:8080/",
     "height": 487
    },
    "id": "xWi0GUcmDuuU",
    "outputId": "2c28c272-03fa-4732-f1b8-7d0d6385e986"
   },
   "outputs": [
    {
     "data": {
      "image/png": "[encoded data removed]",
      "text/plain": [
       "<Figure size 432x288 with 1 Axes>"
      ]
     },
     "metadata": {
      "needs_background": "light"
     },
     "output_type": "display_data"
    }
   ],
   "source": [
    "sns.histplot(data1['Elapsed_Time'], kde=True)\n",
    "plt.title(f'Distribution of Elapsed_Time')\n",
    "plt.xlabel('Elapsed_Time')\n",
    "plt.ylabel('Frequency')\n",
    "plt.tight_layout()\n",
    "plt.show()"
   ]
  },
  {
   "cell_type": "markdown",
   "metadata": {
    "id": "tPRaVzOnFriF"
   },
   "source": [
    "`Age distribution using Histogram plot`"
   ]
  },
  {
   "cell_type": "code",
   "execution_count": 10,
   "metadata": {
    "colab": {
     "base_uri": "https://localhost:8080/",
     "height": 487
    },
    "id": "qo3mijwwFvp9",
    "outputId": "d9d3771c-25c1-469e-d717-39f08a0f3228"
   },
   "outputs": [
    {
     "data": {
      "image/png": "[encoded data removed]",
      "text/plain": [
       "<Figure size 432x288 with 1 Axes>"
      ]
     },
     "metadata": {
      "needs_background": "light"
     },
     "output_type": "display_data"
    }
   ],
   "source": [
    "sns.histplot(data1['Age'], kde=True)\n",
    "plt.title('Distribution of Age')\n",
    "plt.xlabel('Age')\n",
    "plt.ylabel('Frequency')\n",
    "plt.tight_layout()\n",
    "plt.show()"
   ]
  },
  {
   "cell_type": "markdown",
   "metadata": {
    "id": "MHvdj2wCMJ_t"
   },
   "source": [
    "`Correlation between Age and Elapsed Time`"
   ]
  },
  {
   "cell_type": "code",
   "execution_count": 11,
   "metadata": {
    "colab": {
     "base_uri": "https://localhost:8080/",
     "height": 450
    },
    "id": "Kj6MfTpqGpuM",
    "outputId": "712af5e7-bb76-4e4c-dc64-f76c112670df"
   },
   "outputs": [
    {
     "data": {
      "image/png": "[encoded data removed]",
      "text/plain": [
       "<Figure size 432x288 with 1 Axes>"
      ]
     },
     "metadata": {
      "needs_background": "light"
     },
     "output_type": "display_data"
    }
   ],
   "source": [
    "sns.scatterplot(data=data1, x='Elapsed_Time', y='Age')\n",
    "plt.show()"
   ]
  },
  {
   "cell_type": "markdown",
   "metadata": {
    "id": "4kpjuTWLMYW8"
   },
   "source": [
    "There is no clear correlation\n",
    "\n",
    "\n"
   ]
  },
  {
   "cell_type": "markdown",
   "metadata": {
    "id": "9OOyFaxdMb4r"
   },
   "source": [
    "**Lets see the value counts of some attributes using word cloud and bar plot**"
   ]
  },
  {
   "cell_type": "markdown",
   "metadata": {
    "id": "oPPKQly_QamC"
   },
   "source": [
    "`Time_in_Community`"
   ]
  },
  {
   "cell_type": "code",
   "execution_count": 16,
   "metadata": {
    "colab": {
     "base_uri": "https://localhost:8080/",
     "height": 599
    },
    "id": "sQc4cA_AH7bt",
    "outputId": "d505ffcd-0330-4882-ede6-d084444f1017"
   },
   "outputs": [
    {
     "ename": "ValueError",
     "evalue": "Only supported for TrueType fonts",
     "output_type": "error",
     "traceback": [
      "\u001b[1;31m---------------------------------------------------------------------------\u001b[0m",
      "\u001b[1;31mValueError\u001b[0m                                Traceback (most recent call last)",
      "\u001b[1;32m~\\AppData\\Local\\Temp/ipykernel_19852/859943986.py\u001b[0m in \u001b[0;36m<module>\u001b[1;34m\u001b[0m\n\u001b[0;32m      1\u001b[0m \u001b[0mtext\u001b[0m \u001b[1;33m=\u001b[0m \u001b[0mdata1\u001b[0m\u001b[1;33m[\u001b[0m\u001b[1;34m'Time_in_Community'\u001b[0m\u001b[1;33m]\u001b[0m\u001b[1;33m\u001b[0m\u001b[1;33m\u001b[0m\u001b[0m\n\u001b[0;32m      2\u001b[0m \u001b[0mtext\u001b[0m \u001b[1;33m=\u001b[0m \u001b[1;34m' '\u001b[0m\u001b[1;33m.\u001b[0m\u001b[0mjoin\u001b[0m\u001b[1;33m(\u001b[0m\u001b[0mlist\u001b[0m\u001b[1;33m(\u001b[0m\u001b[0mtext\u001b[0m\u001b[1;33m)\u001b[0m\u001b[1;33m)\u001b[0m\u001b[1;33m\u001b[0m\u001b[1;33m\u001b[0m\u001b[0m\n\u001b[1;32m----> 3\u001b[1;33m \u001b[0mwordcloud\u001b[0m \u001b[1;33m=\u001b[0m \u001b[0mWordCloud\u001b[0m\u001b[1;33m(\u001b[0m\u001b[1;33m)\u001b[0m\u001b[1;33m.\u001b[0m\u001b[0mgenerate\u001b[0m\u001b[1;33m(\u001b[0m\u001b[0mtext\u001b[0m\u001b[1;33m)\u001b[0m\u001b[1;33m\u001b[0m\u001b[1;33m\u001b[0m\u001b[0m\n\u001b[0m\u001b[0;32m      4\u001b[0m \u001b[1;33m\u001b[0m\u001b[0m\n\u001b[0;32m      5\u001b[0m \u001b[0mx\u001b[0m \u001b[1;33m=\u001b[0m \u001b[0mlist\u001b[0m\u001b[1;33m(\u001b[0m\u001b[0mdict\u001b[0m\u001b[1;33m(\u001b[0m\u001b[0mdata1\u001b[0m\u001b[1;33m[\u001b[0m\u001b[1;34m'Time_in_Community'\u001b[0m\u001b[1;33m]\u001b[0m\u001b[1;33m.\u001b[0m\u001b[0mvalue_counts\u001b[0m\u001b[1;33m(\u001b[0m\u001b[1;33m)\u001b[0m\u001b[1;33m)\u001b[0m\u001b[1;33m.\u001b[0m\u001b[0mkeys\u001b[0m\u001b[1;33m(\u001b[0m\u001b[1;33m)\u001b[0m\u001b[1;33m)\u001b[0m\u001b[1;33m\u001b[0m\u001b[1;33m\u001b[0m\u001b[0m\n",
      "\u001b[1;32m~\\AppData\\Roaming\\Python\\Python39\\site-packages\\wordcloud\\wordcloud.py\u001b[0m in \u001b[0;36mgenerate\u001b[1;34m(self, text)\u001b[0m\n\u001b[0;32m    640\u001b[0m         \u001b[0mself\u001b[0m\u001b[1;33m\u001b[0m\u001b[1;33m\u001b[0m\u001b[0m\n\u001b[0;32m    641\u001b[0m         \"\"\"\n\u001b[1;32m--> 642\u001b[1;33m         \u001b[1;32mreturn\u001b[0m \u001b[0mself\u001b[0m\u001b[1;33m.\u001b[0m\u001b[0mgenerate_from_text\u001b[0m\u001b[1;33m(\u001b[0m\u001b[0mtext\u001b[0m\u001b[1;33m)\u001b[0m\u001b[1;33m\u001b[0m\u001b[1;33m\u001b[0m\u001b[0m\n\u001b[0m\u001b[0;32m    643\u001b[0m \u001b[1;33m\u001b[0m\u001b[0m\n\u001b[0;32m    644\u001b[0m     \u001b[1;32mdef\u001b[0m \u001b[0m_check_generated\u001b[0m\u001b[1;33m(\u001b[0m\u001b[0mself\u001b[0m\u001b[1;33m)\u001b[0m\u001b[1;33m:\u001b[0m\u001b[1;33m\u001b[0m\u001b[1;33m\u001b[0m\u001b[0m\n",
      "\u001b[1;32m~\\AppData\\Roaming\\Python\\Python39\\site-packages\\wordcloud\\wordcloud.py\u001b[0m in \u001b[0;36mgenerate_from_text\u001b[1;34m(self, text)\u001b[0m\n\u001b[0;32m    622\u001b[0m         \"\"\"\n\u001b[0;32m    623\u001b[0m         \u001b[0mwords\u001b[0m \u001b[1;33m=\u001b[0m \u001b[0mself\u001b[0m\u001b[1;33m.\u001b[0m\u001b[0mprocess_text\u001b[0m\u001b[1;33m(\u001b[0m\u001b[0mtext\u001b[0m\u001b[1;33m)\u001b[0m\u001b[1;33m\u001b[0m\u001b[1;33m\u001b[0m\u001b[0m\n\u001b[1;32m--> 624\u001b[1;33m         \u001b[0mself\u001b[0m\u001b[1;33m.\u001b[0m\u001b[0mgenerate_from_frequencies\u001b[0m\u001b[1;33m(\u001b[0m\u001b[0mwords\u001b[0m\u001b[1;33m)\u001b[0m\u001b[1;33m\u001b[0m\u001b[1;33m\u001b[0m\u001b[0m\n\u001b[0m\u001b[0;32m    625\u001b[0m         \u001b[1;32mreturn\u001b[0m \u001b[0mself\u001b[0m\u001b[1;33m\u001b[0m\u001b[1;33m\u001b[0m\u001b[0m\n\u001b[0;32m    626\u001b[0m \u001b[1;33m\u001b[0m\u001b[0m\n",
      "\u001b[1;32m~\\AppData\\Roaming\\Python\\Python39\\site-packages\\wordcloud\\wordcloud.py\u001b[0m in \u001b[0;36mgenerate_from_frequencies\u001b[1;34m(self, frequencies, max_font_size)\u001b[0m\n\u001b[0;32m    451\u001b[0m                 \u001b[0mfont_size\u001b[0m \u001b[1;33m=\u001b[0m \u001b[0mself\u001b[0m\u001b[1;33m.\u001b[0m\u001b[0mheight\u001b[0m\u001b[1;33m\u001b[0m\u001b[1;33m\u001b[0m\u001b[0m\n\u001b[0;32m    452\u001b[0m             \u001b[1;32melse\u001b[0m\u001b[1;33m:\u001b[0m\u001b[1;33m\u001b[0m\u001b[1;33m\u001b[0m\u001b[0m\n\u001b[1;32m--> 453\u001b[1;33m                 self.generate_from_frequencies(dict(frequencies[:2]),\n\u001b[0m\u001b[0;32m    454\u001b[0m                                                max_font_size=self.height)\n\u001b[0;32m    455\u001b[0m                 \u001b[1;31m# find font sizes\u001b[0m\u001b[1;33m\u001b[0m\u001b[1;33m\u001b[0m\u001b[0m\n",
      "\u001b[1;32m~\\AppData\\Roaming\\Python\\Python39\\site-packages\\wordcloud\\wordcloud.py\u001b[0m in \u001b[0;36mgenerate_from_frequencies\u001b[1;34m(self, frequencies, max_font_size)\u001b[0m\n\u001b[0;32m    509\u001b[0m                     font, orientation=orientation)\n\u001b[0;32m    510\u001b[0m                 \u001b[1;31m# get size of resulting text\u001b[0m\u001b[1;33m\u001b[0m\u001b[1;33m\u001b[0m\u001b[0m\n\u001b[1;32m--> 511\u001b[1;33m                 \u001b[0mbox_size\u001b[0m \u001b[1;33m=\u001b[0m \u001b[0mdraw\u001b[0m\u001b[1;33m.\u001b[0m\u001b[0mtextbbox\u001b[0m\u001b[1;33m(\u001b[0m\u001b[1;33m(\u001b[0m\u001b[1;36m0\u001b[0m\u001b[1;33m,\u001b[0m \u001b[1;36m0\u001b[0m\u001b[1;33m)\u001b[0m\u001b[1;33m,\u001b[0m \u001b[0mword\u001b[0m\u001b[1;33m,\u001b[0m \u001b[0mfont\u001b[0m\u001b[1;33m=\u001b[0m\u001b[0mtransposed_font\u001b[0m\u001b[1;33m,\u001b[0m \u001b[0manchor\u001b[0m\u001b[1;33m=\u001b[0m\u001b[1;34m\"lt\"\u001b[0m\u001b[1;33m)\u001b[0m\u001b[1;33m\u001b[0m\u001b[1;33m\u001b[0m\u001b[0m\n\u001b[0m\u001b[0;32m    512\u001b[0m                 \u001b[1;31m# find possible places using integral image:\u001b[0m\u001b[1;33m\u001b[0m\u001b[1;33m\u001b[0m\u001b[0m\n\u001b[0;32m    513\u001b[0m                 result = occupancy.sample_position(box_size[3] + self.margin,\n",
      "\u001b[1;32m~\\anaconda3\\lib\\site-packages\\PIL\\ImageDraw.py\u001b[0m in \u001b[0;36mtextbbox\u001b[1;34m(self, xy, text, font, anchor, spacing, align, direction, features, language, stroke_width, embedded_color)\u001b[0m\n\u001b[0;32m    649\u001b[0m             \u001b[0mfont\u001b[0m \u001b[1;33m=\u001b[0m \u001b[0mself\u001b[0m\u001b[1;33m.\u001b[0m\u001b[0mgetfont\u001b[0m\u001b[1;33m(\u001b[0m\u001b[1;33m)\u001b[0m\u001b[1;33m\u001b[0m\u001b[1;33m\u001b[0m\u001b[0m\n\u001b[0;32m    650\u001b[0m         \u001b[1;32mif\u001b[0m \u001b[1;32mnot\u001b[0m \u001b[0misinstance\u001b[0m\u001b[1;33m(\u001b[0m\u001b[0mfont\u001b[0m\u001b[1;33m,\u001b[0m \u001b[0mImageFont\u001b[0m\u001b[1;33m.\u001b[0m\u001b[0mFreeTypeFont\u001b[0m\u001b[1;33m)\u001b[0m\u001b[1;33m:\u001b[0m\u001b[1;33m\u001b[0m\u001b[1;33m\u001b[0m\u001b[0m\n\u001b[1;32m--> 651\u001b[1;33m             \u001b[1;32mraise\u001b[0m \u001b[0mValueError\u001b[0m\u001b[1;33m(\u001b[0m\u001b[1;34m\"Only supported for TrueType fonts\"\u001b[0m\u001b[1;33m)\u001b[0m\u001b[1;33m\u001b[0m\u001b[1;33m\u001b[0m\u001b[0m\n\u001b[0m\u001b[0;32m    652\u001b[0m         \u001b[0mmode\u001b[0m \u001b[1;33m=\u001b[0m \u001b[1;34m\"RGBA\"\u001b[0m \u001b[1;32mif\u001b[0m \u001b[0membedded_color\u001b[0m \u001b[1;32melse\u001b[0m \u001b[0mself\u001b[0m\u001b[1;33m.\u001b[0m\u001b[0mfontmode\u001b[0m\u001b[1;33m\u001b[0m\u001b[1;33m\u001b[0m\u001b[0m\n\u001b[0;32m    653\u001b[0m         bbox = font.getbbox(\n",
      "\u001b[1;31mValueError\u001b[0m: Only supported for TrueType fonts"
     ]
    }
   ],
   "source": [
    "text = data1['Time_in_Community']\n",
    "text = ' '.join(list(text))\n",
    "wordcloud = WordCloud().generate(text)\n",
    "\n",
    "x = list(dict(data1['Time_in_Community'].value_counts()).keys())\n",
    "counts = list(data1['Time_in_Community'].value_counts())\n",
    "\n",
    "fig, axs = plt.subplots(1, 2, figsize=(15,7))\n",
    "\n",
    "axs[0].imshow(wordcloud, interpolation='bilinear')\n",
    "axs[0].axis(\"off\")\n",
    "\n",
    "axs[1].bar(x=x,height=counts, data=data1, color=['#5F0F40', '#FB8B24', '#E36414'])\n",
    "plt.show()"
   ]
  },
  {
   "cell_type": "markdown",
   "metadata": {
    "id": "eUKO33D1QgUS"
   },
   "source": [
    "`Gender`"
   ]
  },
  {
   "cell_type": "code",
   "execution_count": 13,
   "metadata": {
    "colab": {
     "base_uri": "https://localhost:8080/",
     "height": 599
    },
    "id": "S3KDU_UoRE6c",
    "outputId": "cfe81068-8372-41f7-e2ae-c07b693c888f"
   },
   "outputs": [
    {
     "ename": "ValueError",
     "evalue": "Only supported for TrueType fonts",
     "output_type": "error",
     "traceback": [
      "\u001b[1;31m---------------------------------------------------------------------------\u001b[0m",
      "\u001b[1;31mValueError\u001b[0m                                Traceback (most recent call last)",
      "\u001b[1;32m~\\AppData\\Local\\Temp/ipykernel_19852/4101463173.py\u001b[0m in \u001b[0;36m<module>\u001b[1;34m\u001b[0m\n\u001b[0;32m      1\u001b[0m \u001b[0mtext\u001b[0m \u001b[1;33m=\u001b[0m \u001b[0mdata1\u001b[0m\u001b[1;33m[\u001b[0m\u001b[1;34m'Gender'\u001b[0m\u001b[1;33m]\u001b[0m\u001b[1;33m\u001b[0m\u001b[1;33m\u001b[0m\u001b[0m\n\u001b[0;32m      2\u001b[0m \u001b[0mtext\u001b[0m \u001b[1;33m=\u001b[0m \u001b[1;34m' '\u001b[0m\u001b[1;33m.\u001b[0m\u001b[0mjoin\u001b[0m\u001b[1;33m(\u001b[0m\u001b[0mlist\u001b[0m\u001b[1;33m(\u001b[0m\u001b[0mtext\u001b[0m\u001b[1;33m)\u001b[0m\u001b[1;33m)\u001b[0m\u001b[1;33m\u001b[0m\u001b[1;33m\u001b[0m\u001b[0m\n\u001b[1;32m----> 3\u001b[1;33m \u001b[0mwordcloud\u001b[0m \u001b[1;33m=\u001b[0m \u001b[0mWordCloud\u001b[0m\u001b[1;33m(\u001b[0m\u001b[1;33m)\u001b[0m\u001b[1;33m.\u001b[0m\u001b[0mgenerate\u001b[0m\u001b[1;33m(\u001b[0m\u001b[0mtext\u001b[0m\u001b[1;33m)\u001b[0m\u001b[1;33m\u001b[0m\u001b[1;33m\u001b[0m\u001b[0m\n\u001b[0m\u001b[0;32m      4\u001b[0m \u001b[1;33m\u001b[0m\u001b[0m\n\u001b[0;32m      5\u001b[0m \u001b[0mx\u001b[0m \u001b[1;33m=\u001b[0m \u001b[0mlist\u001b[0m\u001b[1;33m(\u001b[0m\u001b[0mdict\u001b[0m\u001b[1;33m(\u001b[0m\u001b[0mdata1\u001b[0m\u001b[1;33m[\u001b[0m\u001b[1;34m'Gender'\u001b[0m\u001b[1;33m]\u001b[0m\u001b[1;33m.\u001b[0m\u001b[0mvalue_counts\u001b[0m\u001b[1;33m(\u001b[0m\u001b[1;33m)\u001b[0m\u001b[1;33m)\u001b[0m\u001b[1;33m.\u001b[0m\u001b[0mkeys\u001b[0m\u001b[1;33m(\u001b[0m\u001b[1;33m)\u001b[0m\u001b[1;33m)\u001b[0m\u001b[1;33m\u001b[0m\u001b[1;33m\u001b[0m\u001b[0m\n",
      "\u001b[1;32m~\\AppData\\Roaming\\Python\\Python39\\site-packages\\wordcloud\\wordcloud.py\u001b[0m in \u001b[0;36mgenerate\u001b[1;34m(self, text)\u001b[0m\n\u001b[0;32m    640\u001b[0m         \u001b[0mself\u001b[0m\u001b[1;33m\u001b[0m\u001b[1;33m\u001b[0m\u001b[0m\n\u001b[0;32m    641\u001b[0m         \"\"\"\n\u001b[1;32m--> 642\u001b[1;33m         \u001b[1;32mreturn\u001b[0m \u001b[0mself\u001b[0m\u001b[1;33m.\u001b[0m\u001b[0mgenerate_from_text\u001b[0m\u001b[1;33m(\u001b[0m\u001b[0mtext\u001b[0m\u001b[1;33m)\u001b[0m\u001b[1;33m\u001b[0m\u001b[1;33m\u001b[0m\u001b[0m\n\u001b[0m\u001b[0;32m    643\u001b[0m \u001b[1;33m\u001b[0m\u001b[0m\n\u001b[0;32m    644\u001b[0m     \u001b[1;32mdef\u001b[0m \u001b[0m_check_generated\u001b[0m\u001b[1;33m(\u001b[0m\u001b[0mself\u001b[0m\u001b[1;33m)\u001b[0m\u001b[1;33m:\u001b[0m\u001b[1;33m\u001b[0m\u001b[1;33m\u001b[0m\u001b[0m\n",
      "\u001b[1;32m~\\AppData\\Roaming\\Python\\Python39\\site-packages\\wordcloud\\wordcloud.py\u001b[0m in \u001b[0;36mgenerate_from_text\u001b[1;34m(self, text)\u001b[0m\n\u001b[0;32m    622\u001b[0m         \"\"\"\n\u001b[0;32m    623\u001b[0m         \u001b[0mwords\u001b[0m \u001b[1;33m=\u001b[0m \u001b[0mself\u001b[0m\u001b[1;33m.\u001b[0m\u001b[0mprocess_text\u001b[0m\u001b[1;33m(\u001b[0m\u001b[0mtext\u001b[0m\u001b[1;33m)\u001b[0m\u001b[1;33m\u001b[0m\u001b[1;33m\u001b[0m\u001b[0m\n\u001b[1;32m--> 624\u001b[1;33m         \u001b[0mself\u001b[0m\u001b[1;33m.\u001b[0m\u001b[0mgenerate_from_frequencies\u001b[0m\u001b[1;33m(\u001b[0m\u001b[0mwords\u001b[0m\u001b[1;33m)\u001b[0m\u001b[1;33m\u001b[0m\u001b[1;33m\u001b[0m\u001b[0m\n\u001b[0m\u001b[0;32m    625\u001b[0m         \u001b[1;32mreturn\u001b[0m \u001b[0mself\u001b[0m\u001b[1;33m\u001b[0m\u001b[1;33m\u001b[0m\u001b[0m\n\u001b[0;32m    626\u001b[0m \u001b[1;33m\u001b[0m\u001b[0m\n",
      "\u001b[1;32m~\\AppData\\Roaming\\Python\\Python39\\site-packages\\wordcloud\\wordcloud.py\u001b[0m in \u001b[0;36mgenerate_from_frequencies\u001b[1;34m(self, frequencies, max_font_size)\u001b[0m\n\u001b[0;32m    451\u001b[0m                 \u001b[0mfont_size\u001b[0m \u001b[1;33m=\u001b[0m \u001b[0mself\u001b[0m\u001b[1;33m.\u001b[0m\u001b[0mheight\u001b[0m\u001b[1;33m\u001b[0m\u001b[1;33m\u001b[0m\u001b[0m\n\u001b[0;32m    452\u001b[0m             \u001b[1;32melse\u001b[0m\u001b[1;33m:\u001b[0m\u001b[1;33m\u001b[0m\u001b[1;33m\u001b[0m\u001b[0m\n\u001b[1;32m--> 453\u001b[1;33m                 self.generate_from_frequencies(dict(frequencies[:2]),\n\u001b[0m\u001b[0;32m    454\u001b[0m                                                max_font_size=self.height)\n\u001b[0;32m    455\u001b[0m                 \u001b[1;31m# find font sizes\u001b[0m\u001b[1;33m\u001b[0m\u001b[1;33m\u001b[0m\u001b[0m\n",
      "\u001b[1;32m~\\AppData\\Roaming\\Python\\Python39\\site-packages\\wordcloud\\wordcloud.py\u001b[0m in \u001b[0;36mgenerate_from_frequencies\u001b[1;34m(self, frequencies, max_font_size)\u001b[0m\n\u001b[0;32m    509\u001b[0m                     font, orientation=orientation)\n\u001b[0;32m    510\u001b[0m                 \u001b[1;31m# get size of resulting text\u001b[0m\u001b[1;33m\u001b[0m\u001b[1;33m\u001b[0m\u001b[0m\n\u001b[1;32m--> 511\u001b[1;33m                 \u001b[0mbox_size\u001b[0m \u001b[1;33m=\u001b[0m \u001b[0mdraw\u001b[0m\u001b[1;33m.\u001b[0m\u001b[0mtextbbox\u001b[0m\u001b[1;33m(\u001b[0m\u001b[1;33m(\u001b[0m\u001b[1;36m0\u001b[0m\u001b[1;33m,\u001b[0m \u001b[1;36m0\u001b[0m\u001b[1;33m)\u001b[0m\u001b[1;33m,\u001b[0m \u001b[0mword\u001b[0m\u001b[1;33m,\u001b[0m \u001b[0mfont\u001b[0m\u001b[1;33m=\u001b[0m\u001b[0mtransposed_font\u001b[0m\u001b[1;33m,\u001b[0m \u001b[0manchor\u001b[0m\u001b[1;33m=\u001b[0m\u001b[1;34m\"lt\"\u001b[0m\u001b[1;33m)\u001b[0m\u001b[1;33m\u001b[0m\u001b[1;33m\u001b[0m\u001b[0m\n\u001b[0m\u001b[0;32m    512\u001b[0m                 \u001b[1;31m# find possible places using integral image:\u001b[0m\u001b[1;33m\u001b[0m\u001b[1;33m\u001b[0m\u001b[0m\n\u001b[0;32m    513\u001b[0m                 result = occupancy.sample_position(box_size[3] + self.margin,\n",
      "\u001b[1;32m~\\anaconda3\\lib\\site-packages\\PIL\\ImageDraw.py\u001b[0m in \u001b[0;36mtextbbox\u001b[1;34m(self, xy, text, font, anchor, spacing, align, direction, features, language, stroke_width, embedded_color)\u001b[0m\n\u001b[0;32m    649\u001b[0m             \u001b[0mfont\u001b[0m \u001b[1;33m=\u001b[0m \u001b[0mself\u001b[0m\u001b[1;33m.\u001b[0m\u001b[0mgetfont\u001b[0m\u001b[1;33m(\u001b[0m\u001b[1;33m)\u001b[0m\u001b[1;33m\u001b[0m\u001b[1;33m\u001b[0m\u001b[0m\n\u001b[0;32m    650\u001b[0m         \u001b[1;32mif\u001b[0m \u001b[1;32mnot\u001b[0m \u001b[0misinstance\u001b[0m\u001b[1;33m(\u001b[0m\u001b[0mfont\u001b[0m\u001b[1;33m,\u001b[0m \u001b[0mImageFont\u001b[0m\u001b[1;33m.\u001b[0m\u001b[0mFreeTypeFont\u001b[0m\u001b[1;33m)\u001b[0m\u001b[1;33m:\u001b[0m\u001b[1;33m\u001b[0m\u001b[1;33m\u001b[0m\u001b[0m\n\u001b[1;32m--> 651\u001b[1;33m             \u001b[1;32mraise\u001b[0m \u001b[0mValueError\u001b[0m\u001b[1;33m(\u001b[0m\u001b[1;34m\"Only supported for TrueType fonts\"\u001b[0m\u001b[1;33m)\u001b[0m\u001b[1;33m\u001b[0m\u001b[1;33m\u001b[0m\u001b[0m\n\u001b[0m\u001b[0;32m    652\u001b[0m         \u001b[0mmode\u001b[0m \u001b[1;33m=\u001b[0m \u001b[1;34m\"RGBA\"\u001b[0m \u001b[1;32mif\u001b[0m \u001b[0membedded_color\u001b[0m \u001b[1;32melse\u001b[0m \u001b[0mself\u001b[0m\u001b[1;33m.\u001b[0m\u001b[0mfontmode\u001b[0m\u001b[1;33m\u001b[0m\u001b[1;33m\u001b[0m\u001b[0m\n\u001b[0;32m    653\u001b[0m         bbox = font.getbbox(\n",
      "\u001b[1;31mValueError\u001b[0m: Only supported for TrueType fonts"
     ]
    }
   ],
   "source": [
    "text = data1['Gender']\n",
    "text = ' '.join(list(text))\n",
    "wordcloud = WordCloud().generate(text)\n",
    "\n",
    "x = list(dict(data1['Gender'].value_counts()).keys())\n",
    "counts = list(data1['Gender'].value_counts())\n",
    "\n",
    "fig, axs = plt.subplots(1, 2, figsize=(15,7))\n",
    "\n",
    "axs[0].imshow(wordcloud, interpolation='bilinear')\n",
    "axs[0].axis(\"off\")\n",
    "\n",
    "axs[1].bar(x=x,height=counts, data=data1, color=['#5F0F40', '#FB8B24', '#E36414'])\n",
    "plt.show()"
   ]
  },
  {
   "cell_type": "markdown",
   "metadata": {
    "id": "HF0MIs_FBMlk"
   },
   "source": [
    "## A3_1. Clustering"
   ]
  },
  {
   "cell_type": "code",
   "execution_count": null,
   "metadata": {
    "colab": {
     "base_uri": "https://localhost:8080/",
     "height": 564
    },
    "id": "NbFV_pklh6Fd",
    "outputId": "fd45842f-f657-49e1-ad2e-db177261f84c"
   },
   "outputs": [],
   "source": [
    "numerical = data1.select_dtypes(include=['number']).drop('Record#', axis=1).columns\n",
    "categorical = data1.select_dtypes(include=['object']).columns\n",
    "\n",
    "preprocessor = ColumnTransformer(\n",
    "    transformers=[\n",
    "        ('num', StandardScaler(), numerical),\n",
    "        ('cat', OneHotEncoder(), categorical)\n",
    "    ])\n",
    "\n",
    "prep_data = preprocessor.fit_transform(data1)\n",
    "\n",
    "kmeans = KMeans(n_clusters=3, random_state=42)\n",
    "clusters = kmeans.fit_predict(prep_data)\n",
    "\n",
    "plt.figure(figsize=(10,6))\n",
    "plt.scatter(data1['Elapsed_Time'], data1['Age'], c=clusters, cmap='plasma', marker='o')\n",
    "plt.title('Cluster Visualization (Simplified Data)')\n",
    "plt.xlabel('Elapsed_Time')\n",
    "plt.ylabel('Age')\n",
    "plt.colorbar(label='Cluster')\n",
    "plt.show()"
   ]
  },
  {
   "cell_type": "markdown",
   "metadata": {
    "id": "t8COeXtWBW-1"
   },
   "source": [
    "## A3_2. Outliers"
   ]
  },
  {
   "cell_type": "markdown",
   "metadata": {
    "id": "0KB4jIybj4-l"
   },
   "source": [
    "we will detect outliers using `Boxplot`"
   ]
  },
  {
   "cell_type": "markdown",
   "metadata": {
    "id": "Qd4nRBYXj_Ar"
   },
   "source": [
    "`Age`"
   ]
  },
  {
   "cell_type": "code",
   "execution_count": null,
   "metadata": {
    "colab": {
     "base_uri": "https://localhost:8080/",
     "height": 452
    },
    "id": "a3oHXH_bBXW2",
    "outputId": "4eee1054-1acc-446e-dd2a-d4642cfab332"
   },
   "outputs": [],
   "source": [
    "sns.boxplot(data=data1['Age'], color='skyblue', orient='h')\n",
    "plt.title('Boxplot of Age')\n",
    "plt.show()"
   ]
  },
  {
   "cell_type": "markdown",
   "metadata": {
    "id": "byDdnNK5kqF9"
   },
   "source": [
    "`Elapsed_Time`"
   ]
  },
  {
   "cell_type": "code",
   "execution_count": null,
   "metadata": {
    "colab": {
     "base_uri": "https://localhost:8080/",
     "height": 452
    },
    "id": "4i8U6GnaksL0",
    "outputId": "f4d55879-797b-448b-c9de-1a3d6740a20f"
   },
   "outputs": [],
   "source": [
    "sns.boxplot(data=data1['Elapsed_Time'], color='mediumseagreen', orient='h')\n",
    "plt.title('Boxplot of Elapsed_Time')\n",
    "plt.show()"
   ]
  },
  {
   "cell_type": "markdown",
   "metadata": {
    "id": "W3JN98GclJml"
   },
   "source": [
    "**There is no outliers in our data depending on the box plots**"
   ]
  },
  {
   "cell_type": "markdown",
   "metadata": {
    "id": "a51fPcwjAnq0"
   },
   "source": [
    "# Task B: Data preprocessing"
   ]
  },
  {
   "cell_type": "markdown",
   "metadata": {
    "id": "33bCGdIOn1Mo"
   },
   "source": [
    "## B. Loading scoring dataset"
   ]
  },
  {
   "cell_type": "code",
   "execution_count": null,
   "metadata": {
    "colab": {
     "base_uri": "https://localhost:8080/",
     "height": 424
    },
    "id": "53c4YyGpoxdi",
    "outputId": "2ee5587d-b4b9-44f8-b47a-b3199bf4b6e9"
   },
   "outputs": [],
   "source": [
    "# We Chose the 8th dataset\n",
    "data2 = pd.read_csv('/content/Scoring-Dataset-8.csv')\n",
    "data2"
   ]
  },
  {
   "cell_type": "markdown",
   "metadata": {
    "id": "oBDpNL4FloT1"
   },
   "source": [
    "## B1. Binning"
   ]
  },
  {
   "cell_type": "markdown",
   "metadata": {
    "id": "UbmlhNU9w0Of"
   },
   "source": [
    "### 1. Equal width binning"
   ]
  },
  {
   "cell_type": "markdown",
   "metadata": {
    "id": "52gr7VHsv6D2"
   },
   "source": [
    "**Performing `equal width binning`**"
   ]
  },
  {
   "cell_type": "code",
   "execution_count": null,
   "metadata": {
    "colab": {
     "base_uri": "https://localhost:8080/",
     "height": 424
    },
    "id": "HdsOh3IYApkj",
    "outputId": "36044c0b-9578-4093-da90-957ce86154fb"
   },
   "outputs": [],
   "source": [
    "#Equal width binning\n",
    "min_age = data2['Age'].min()\n",
    "max_age = data2['Age'].max()\n",
    "w = (max_age - min_age) / 3\n",
    "\n",
    "bin_boundaries = [min_age + i * w for i in range(3)]  #bin boundaries = min + i * w\n",
    "bin_boundaries.append(max_age)\n",
    "\n",
    "data2['equi_width'] = pd.cut(data2['Age'], bins=bin_boundaries, labels=['Bin 1', 'Bin 2', 'Bin 3'], include_lowest=True)\n",
    "\n",
    "data2[['Age', 'equi_width']]"
   ]
  },
  {
   "cell_type": "markdown",
   "metadata": {
    "id": "cVkbftL2wsLP"
   },
   "source": [
    "**Bin values**"
   ]
  },
  {
   "cell_type": "code",
   "execution_count": null,
   "metadata": {
    "colab": {
     "base_uri": "https://localhost:8080/"
    },
    "id": "7edMWWcOwOWI",
    "outputId": "a557ace0-0ee3-40f8-e910-ad6180c9f753"
   },
   "outputs": [],
   "source": [
    "for bin_number in ['Bin 1', 'Bin 2', 'Bin 3']:\n",
    "  bin_values = data2[data2['equi_width'] == bin_number]['Age'].tolist()\n",
    "\n",
    "  print(f'{bin_number}: {bin_values}\\n')"
   ]
  },
  {
   "cell_type": "markdown",
   "metadata": {
    "id": "0cL6rKxVwCZ_"
   },
   "source": [
    "**Smoothing by `bin means`**"
   ]
  },
  {
   "cell_type": "code",
   "execution_count": null,
   "metadata": {
    "colab": {
     "base_uri": "https://localhost:8080/",
     "height": 424
    },
    "id": "cnCNMS1ptGqg",
    "outputId": "fb448c37-ca3b-4fb4-ae19-0fbb5d1a66d4"
   },
   "outputs": [],
   "source": [
    "for bin_number in ['Bin 1', 'Bin 2', 'Bin 3']:\n",
    "  bin_mean = np.mean(data2[data2['equi_width'] == bin_number]['Age'].tolist())\n",
    "  bin_mean = round(bin_mean)\n",
    "  data2.loc[data2['equi_width'] == bin_number, 'Age_Smoothed'] = bin_mean\n",
    "\n",
    "data2[['Age', 'equi_width', 'Age_Smoothed']]"
   ]
  },
  {
   "cell_type": "code",
   "execution_count": null,
   "metadata": {
    "id": "3X2aa2BjxCSP"
   },
   "outputs": [],
   "source": [
    "# We'll keep smoothed values only\n",
    "data2.drop('equi_width', axis=1, inplace=True)"
   ]
  },
  {
   "cell_type": "markdown",
   "metadata": {
    "id": "SDkzCKoUw6lP"
   },
   "source": [
    "### 2. Equal depth binning"
   ]
  },
  {
   "cell_type": "code",
   "execution_count": null,
   "metadata": {
    "colab": {
     "base_uri": "https://localhost:8080/",
     "height": 424
    },
    "id": "HfGev0A8yvz_",
    "outputId": "d40246ff-1e05-4cf5-ae47-08ba492ce35f"
   },
   "outputs": [],
   "source": [
    "#first we will sort the data by age to perform equal depth binning\n",
    "data2 = data2.sort_values(by='Age')\n",
    "data2.reset_index(drop=True, inplace=True)\n",
    "\n",
    "data2.loc[:99, 'equi_depth'] = 'Bin 1'\n",
    "\n",
    "data2.loc[100:199, 'equi_depth'] = 'Bin 2'\n",
    "\n",
    "data2.loc[200:, 'equi_depth'] = 'Bin 3'\n",
    "\n",
    "data2[['Age', 'equi_depth']]"
   ]
  },
  {
   "cell_type": "markdown",
   "metadata": {
    "id": "vNemBOxW0hAH"
   },
   "source": [
    "**Making sure that they are `equal`**"
   ]
  },
  {
   "cell_type": "code",
   "execution_count": null,
   "metadata": {
    "colab": {
     "base_uri": "https://localhost:8080/"
    },
    "id": "RcViLtoG0fDe",
    "outputId": "e2a8d56c-58ca-4cc2-d820-897c8f52387a"
   },
   "outputs": [],
   "source": [
    "data2['equi_depth'].value_counts()"
   ]
  },
  {
   "cell_type": "markdown",
   "metadata": {
    "id": "YQXMgnLY0opV"
   },
   "source": [
    "**Smoothing `by bin means`**"
   ]
  },
  {
   "cell_type": "code",
   "execution_count": null,
   "metadata": {
    "colab": {
     "base_uri": "https://localhost:8080/",
     "height": 424
    },
    "id": "9O500HHw0pN_",
    "outputId": "d542ad9a-5d73-45d3-9e4b-71bd46457828"
   },
   "outputs": [],
   "source": [
    "for bin_number in ['Bin 1', 'Bin 2', 'Bin 3']:\n",
    "  bin_mean = np.mean(data2[data2['equi_depth'] == bin_number]['Age'].tolist())\n",
    "  bin_mean = round(bin_mean)\n",
    "  data2.loc[data2['equi_depth'] == bin_number, 'Age_Smoothed_2'] = bin_mean\n",
    "\n",
    "data2[['Age', 'equi_depth', 'Age_Smoothed_2']]"
   ]
  },
  {
   "cell_type": "code",
   "execution_count": null,
   "metadata": {
    "id": "GHmOyYRZ4AsG"
   },
   "outputs": [],
   "source": [
    "# We'll keep smoothed values only\n",
    "data2.drop('equi_depth', axis=1, inplace=True)"
   ]
  },
  {
   "cell_type": "markdown",
   "metadata": {
    "id": "2HxsFPVclwoc"
   },
   "source": [
    "## B2. Normalization"
   ]
  },
  {
   "cell_type": "code",
   "execution_count": null,
   "metadata": {
    "id": "7JZiWXs6lxHE"
   },
   "outputs": [],
   "source": [
    "#Min Max\n",
    "min = data2['Age'].min()\n",
    "max = data2['Age'].max()\n",
    "data2['Age_minmax'] = (data2['Age'] - min) / (max - min)"
   ]
  },
  {
   "cell_type": "code",
   "execution_count": null,
   "metadata": {
    "id": "dkelkM724dgu"
   },
   "outputs": [],
   "source": [
    "#Z-score\n",
    "mu = data2['Age'].mean()\n",
    "std = data2['Age'].std()\n",
    "\n",
    "data2['Age_Zscore'] = (data2['Age'] - mu) / std"
   ]
  },
  {
   "cell_type": "markdown",
   "metadata": {
    "id": "BMTerzFgl1M8"
   },
   "source": [
    "## B3. Discretization"
   ]
  },
  {
   "cell_type": "code",
   "execution_count": null,
   "metadata": {
    "id": "wJ0RNzsbl1jD"
   },
   "outputs": [],
   "source": [
    "labels = ['Teenager', 'Young', 'Mid_Age', 'Mature', 'Old']\n",
    "edges = [0, 16, 35, 55, 70, np.inf]\n",
    "\n",
    "data2['Age_categorical'] = pd.cut(data2['Age'], bins=edges, labels=labels)"
   ]
  },
  {
   "cell_type": "code",
   "execution_count": null,
   "metadata": {
    "colab": {
     "base_uri": "https://localhost:8080/",
     "height": 424
    },
    "id": "fDexk9II9zF_",
    "outputId": "efd3e3ad-7e41-47b1-d59b-e76c3f952733"
   },
   "outputs": [],
   "source": [
    "data2[['Age_categorical', 'Age']]"
   ]
  },
  {
   "cell_type": "markdown",
   "metadata": {
    "id": "HqN7ZJ9jl6VD"
   },
   "source": [
    "## B4. Converting Gender to binary"
   ]
  },
  {
   "cell_type": "code",
   "execution_count": null,
   "metadata": {
    "colab": {
     "base_uri": "https://localhost:8080/",
     "height": 424
    },
    "id": "NvRnG81Ul69j",
    "outputId": "b35d3bad-0e24-4deb-fea4-9e8e77d3c763"
   },
   "outputs": [],
   "source": [
    "data2['Gender_Binary'] = data2['Gender'].map({'M': 1, 'F': 0})\n",
    "data2[['Gender', 'Gender_Binary']]"
   ]
  },
  {
   "cell_type": "markdown",
   "metadata": {
    "id": "ieM_dlpz-s1t"
   },
   "source": [
    "## Final view of the `preprocessed` attributes"
   ]
  },
  {
   "cell_type": "code",
   "execution_count": null,
   "metadata": {
    "colab": {
     "base_uri": "https://localhost:8080/",
     "height": 300
    },
    "id": "l7NiBVza-ts2",
    "outputId": "8ba3662d-f0a4-45b4-ba3a-b3b3d4f04d25"
   },
   "outputs": [],
   "source": [
    "data_preprocessed = data2[['Age', 'Age_categorical','Age_Smoothed', 'Age_Smoothed_2', 'Gender', 'Gender_Binary']]\n",
    "data_preprocessed.sample(8)"
   ]
  },
  {
   "cell_type": "markdown",
   "metadata": {
    "id": "sbWkCsmRAqI8"
   },
   "source": [
    "# Task C: Association rules mining"
   ]
  },
  {
   "cell_type": "markdown",
   "metadata": {
    "id": "WGDnufErDmg4"
   },
   "source": [
    "## Load the data again"
   ]
  },
  {
   "cell_type": "code",
   "execution_count": null,
   "metadata": {
    "id": "T_tVhUILAWrP"
   },
   "outputs": [],
   "source": [
    "#load the data\n",
    "data = pd.read_csv('/content/Community-Participation-DataSet(8).csv')\n",
    "data = data.drop(columns=['Age', 'Record#', 'Elapsed_Time'], axis=1)\n"
   ]
  },
  {
   "cell_type": "markdown",
   "metadata": {
    "id": "cTlsaNEnDsKG"
   },
   "source": [
    "## Apriori"
   ]
  },
  {
   "cell_type": "markdown",
   "metadata": {
    "id": "hr60RBTxADty"
   },
   "source": [
    "**First we will convert the data into a list of transactions**"
   ]
  },
  {
   "cell_type": "code",
   "execution_count": null,
   "metadata": {
    "id": "5sfIiMl9ArmC"
   },
   "outputs": [],
   "source": [
    "transactions = []\n",
    "\n",
    "for i in range(len(data)):\n",
    "    one_transaction = []\n",
    "    row = data.iloc[i] #series\n",
    "\n",
    "    one_transaction.append(row['Time_in_Community'])\n",
    "\n",
    "    if row['Working'] == 'Yes': one_transaction.append('Working')\n",
    "    if row['Family'] == 'Yes': one_transaction.append('Family')\n",
    "    if row['Support_Group'] == 'Yes': one_transaction.append('Support_Group')\n",
    "    if row['Religious'] == 'Yes': one_transaction.append('Religious')\n",
    "    if row['Professional'] == 'Yes': one_transaction.append('Professional')\n",
    "    if row['Political'] == 'Yes': one_transaction.append('Political')\n",
    "    if row['Social_Club'] == 'Yes': one_transaction.append('Social_Club')\n",
    "    if row['Hobbies'] == 'Yes': one_transaction.append('Hobbies')\n",
    "\n",
    "    transactions.append(one_transaction)"
   ]
  },
  {
   "cell_type": "markdown",
   "metadata": {
    "id": "-LJds5luCLds"
   },
   "source": [
    "**Declaring a transaction encoder to convert the data to a format that `apriori` algorithm accepts**"
   ]
  },
  {
   "cell_type": "code",
   "execution_count": null,
   "metadata": {
    "id": "tgsxmkrABRS4"
   },
   "outputs": [],
   "source": [
    "t_encoder = TransactionEncoder()\n",
    "te_arr = t_encoder.fit_transform(transactions)\n",
    "df = pd.DataFrame(te_arr, columns=t_encoder.columns_)"
   ]
  },
  {
   "cell_type": "markdown",
   "metadata": {
    "id": "_hFc8ok2E6m0"
   },
   "source": [
    "**Applying `apriori` algorithm on our transformed data**"
   ]
  },
  {
   "cell_type": "code",
   "execution_count": null,
   "metadata": {
    "id": "PR7eLKRwCVX0"
   },
   "outputs": [],
   "source": [
    "frequent_itemsets = apriori(df, min_support=0.15, use_colnames=True)\n",
    "rules = association_rules(frequent_itemsets, metric=\"confidence\", min_threshold=0.5)"
   ]
  },
  {
   "cell_type": "markdown",
   "metadata": {
    "id": "PbONoPKeFEmc"
   },
   "source": [
    "**Printing the `results`**"
   ]
  },
  {
   "cell_type": "code",
   "execution_count": null,
   "metadata": {
    "colab": {
     "base_uri": "https://localhost:8080/",
     "height": 394
    },
    "id": "sb9CEIU8ESLS",
    "outputId": "e1ab590b-f33f-49a5-a8bd-86318291026f"
   },
   "outputs": [],
   "source": [
    "rules[['antecedents', 'consequents','support', 'confidence']]"
   ]
  },
  {
   "cell_type": "markdown",
   "metadata": {
    "id": "-KiCFExhGyCc"
   },
   "source": [
    "**Increasing the threshold of `confidence` to be `> 0.70`**"
   ]
  },
  {
   "cell_type": "code",
   "execution_count": null,
   "metadata": {
    "id": "1eQi4KrqGncN"
   },
   "outputs": [],
   "source": [
    "frequent_itemsets = apriori(df, min_support=0.15, use_colnames=True)\n",
    "rules = association_rules(frequent_itemsets, metric=\"confidence\", min_threshold=0.70)"
   ]
  },
  {
   "cell_type": "code",
   "execution_count": null,
   "metadata": {
    "colab": {
     "base_uri": "https://localhost:8080/",
     "height": 112
    },
    "id": "FfTunVm_HB1U",
    "outputId": "8f53d7c2-a376-41ba-82df-de285b20bb47"
   },
   "outputs": [],
   "source": [
    "rules[['antecedents', 'consequents','support', 'confidence']]"
   ]
  },
  {
   "cell_type": "markdown",
   "metadata": {
    "id": "VEd_WsPpINuD"
   },
   "source": [
    "These rules suggest strong associations between being involved in hobby-oriented community organizations (and in combination with family-oriented organizations) and being a member of a religious organization."
   ]
  }
 ],
 "metadata": {
  "colab": {
   "provenance": []
  },
  "kernelspec": {
   "display_name": "Python [conda env:base] *",
   "language": "python",
   "name": "conda-base-py"
  },
  "language_info": {
   "codemirror_mode": {
    "name": "ipython",
    "version": 3
   },
   "file_extension": ".py",
   "mimetype": "text/x-python",
   "name": "python",
   "nbconvert_exporter": "python",
   "pygments_lexer": "ipython3",
   "version": "3.12.7"
  }
 },
 "nbformat": 4,
 "nbformat_minor": 4
}
